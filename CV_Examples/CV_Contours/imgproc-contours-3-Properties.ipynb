{
 "cells": [
  {
   "cell_type": "markdown",
   "metadata": {},
   "source": [
    "Contour Properties\n",
    "===\n",
    "Here we will learn to extract some frequently used properties of objects like Solidity, Equivalent Diameter, Mask image, Mean Intensity etc. More features can be found at [Matlab regionprops documentation](http://www.mathworks.in/help/images/ref/regionprops.html).\n",
    "\n",
    "*(NB : Centroid, Area, Perimeter etc also belong to this category, but we have seen it in last chapter)*\n",
    "\n",
    "1. Aspect Ratio\n",
    "---\n",
    "It is the ratio of width to height of bounding rect of the object.\n",
    "\n",
    "$Aspect \\; Ratio = \\frac{Width}{Height}$\n"
   ]
  },
  {
   "cell_type": "code",
   "execution_count": 1,
   "metadata": {},
   "outputs": [
    {
     "name": "stdout",
     "output_type": "stream",
     "text": [
      "Populating the interactive namespace from numpy and matplotlib\n",
      "Aspect: 0.9724137931034482\n"
     ]
    },
    {
     "data": {
      "image/png": "[encoded data removed]",
      "text/plain": [
       "<matplotlib.figure.Figure at 0x7f721c318208>"
      ]
     },
     "metadata": {},
     "output_type": "display_data"
    }
   ],
   "source": [
    "%pylab inline\n",
    "import cv2\n",
    "import numpy as np\n",
    "\n",
    "img = cv2.imread('images/lightning.png')\n",
    "imgray = cv2.cvtColor(img,cv2.COLOR_BGR2GRAY)\n",
    "ret,thresh = cv2.threshold(imgray,127,255,0)\n",
    "imgout, contours,hierarchy = cv2.findContours(thresh, 1, 2)\n",
    "cnt = contours[0]\n",
    "\n",
    "imshow(img)\n",
    "\n",
    "x,y,w,h = cv2.boundingRect(cnt)\n",
    "aspect_ratio = float(w)/h\n",
    "print (\"Aspect: \"+str(aspect_ratio))"
   ]
  },
  {
   "cell_type": "markdown",
   "metadata": {},
   "source": [
    "2. Extent\n",
    "---\n",
    "Extent is the ratio of contour area to bounding rectangle area.\n",
    "\n",
    "$Extent = \\frac{Object \\; Area}{Bounding \\; Rectangle \\; Area}$"
   ]
  },
  {
   "cell_type": "code",
   "execution_count": 2,
   "metadata": {},
   "outputs": [
    {
     "name": "stdout",
     "output_type": "stream",
     "text": [
      "Extent: 0.2888481291269259\n"
     ]
    }
   ],
   "source": [
    "area = cv2.contourArea(cnt)\n",
    "x,y,w,h = cv2.boundingRect(cnt)\n",
    "rect_area = w*h\n",
    "extent = float(area)/rect_area\n",
    "print (\"Extent: \"+str(extent))"
   ]
  },
  {
   "cell_type": "markdown",
   "metadata": {},
   "source": [
    "3. Solidity\n",
    "---\n",
    "Solidity is the ratio of contour area to its convex hull area.\n",
    "\n",
    "$Solidity = \\frac{Contour \\; Area}{Convex \\; Hull \\; Area}$"
   ]
  },
  {
   "cell_type": "code",
   "execution_count": 3,
   "metadata": {},
   "outputs": [
    {
     "name": "stdout",
     "output_type": "stream",
     "text": [
      "Solidity: 0.6107347846320906\n"
     ]
    }
   ],
   "source": [
    "area = cv2.contourArea(cnt)\n",
    "hull = cv2.convexHull(cnt)\n",
    "hull_area = cv2.contourArea(hull)\n",
    "solidity = float(area)/hull_area\n",
    "print (\"Solidity: \"+str(solidity))"
   ]
  },
  {
   "cell_type": "markdown",
   "metadata": {},
   "source": [
    "4. Equivalent Diameter\n",
    "---\n",
    "Equivalent Diameter is the diameter of the circle whose area is same as the contour area.\n",
    "\n",
    "$Equivalent \\; Diameter = \\sqrt{\\frac{4 \\times Contour \\; Area}{\\pi}}$"
   ]
  },
  {
   "cell_type": "code",
   "execution_count": 4,
   "metadata": {},
   "outputs": [
    {
     "name": "stdout",
     "output_type": "stream",
     "text": [
      "Equivalent Diameter 86.7128371778568\n"
     ]
    }
   ],
   "source": [
    "area = cv2.contourArea(cnt)\n",
    "equi_diameter = np.sqrt(4*area/np.pi)\n",
    "print (\"Equivalent Diameter \" +str(equi_diameter))"
   ]
  },
  {
   "cell_type": "markdown",
   "metadata": {},
   "source": [
    "5. Orientation\n",
    "---\n",
    "Orientation is the angle at which object is directed. Following method also gives the Major Axis and Minor Axis lengths.\n"
   ]
  },
  {
   "cell_type": "code",
   "execution_count": 5,
   "metadata": {},
   "outputs": [
    {
     "name": "stdout",
     "output_type": "stream",
     "text": [
      "Angle: 155.85482788085938\n"
     ]
    }
   ],
   "source": [
    "(x,y),(MA,ma),angle = cv2.fitEllipse(cnt)\n",
    "print (\"Angle: \" +str(angle))"
   ]
  },
  {
   "cell_type": "markdown",
   "metadata": {},
   "source": [
    "6. Mask and Pixel Points\n",
    "---\n",
    "In some cases, we may need all the points which comprises that object. It can be done as follows:"
   ]
  },
  {
   "cell_type": "code",
   "execution_count": 6,
   "metadata": {},
   "outputs": [
    {
     "name": "stdout",
     "output_type": "stream",
     "text": [
      "[[ 52  62]\n",
      " [ 53  61]\n",
      " [ 53  62]\n",
      " ...\n",
      " [195 200]\n",
      " [195 201]\n",
      " [196 200]]\n"
     ]
    }
   ],
   "source": [
    "mask = np.zeros(imgray.shape,np.uint8)\n",
    "cv2.drawContours(mask,[cnt],0,255,-1)\n",
    "pixelpoints = np.transpose(np.nonzero(mask))\n",
    "print (pixelpoints)\n",
    "#pixelpoints = cv2.findNonZero(mask)"
   ]
  },
  {
   "cell_type": "markdown",
   "metadata": {},
   "source": [
    "Here, two methods, one using Numpy functions, next one using OpenCV function (last commented line) are given to do the same. Results are also same, but with a slight difference. Numpy gives coordinates in `(row, column)` format, while OpenCV gives coordinates in `(x,y)` format. So basically the answers will be interchanged. Note that, `row = x` and `column = y`."
   ]
  },
  {
   "cell_type": "markdown",
   "metadata": {},
   "source": [
    "7. Maximum Value, Minimum Value and their locations\n",
    "---\n",
    "We can find these parameters using a mask image."
   ]
  },
  {
   "cell_type": "code",
   "execution_count": 7,
   "metadata": {},
   "outputs": [
    {
     "name": "stdout",
     "output_type": "stream",
     "text": [
      "0.0 255.0 (63, 55) (63, 53)\n"
     ]
    }
   ],
   "source": [
    "min_val, max_val, min_loc, max_loc = cv2.minMaxLoc(imgray,mask = mask)\n",
    "print(min_val,max_val,min_loc,max_loc)"
   ]
  },
  {
   "cell_type": "markdown",
   "metadata": {},
   "source": [
    "8. Mean Color or Mean Intensity\n",
    "---\n",
    "Here, we can find the average color of an object. Or it can be average intensity of the object in grayscale mode. We again use the same mask to do it."
   ]
  },
  {
   "cell_type": "code",
   "execution_count": 8,
   "metadata": {},
   "outputs": [
    {
     "name": "stdout",
     "output_type": "stream",
     "text": [
      "Mean Val: (17.406474820143885, 17.406474820143885, 17.406474820143885, 0.0)\n"
     ]
    }
   ],
   "source": [
    "mean_val = cv2.mean(img,mask = mask)\n",
    "print (\"Mean Val: \"+str(mean_val))"
   ]
  },
  {
   "cell_type": "code",
   "execution_count": 9,
   "metadata": {},
   "outputs": [
    {
     "name": "stdout",
     "output_type": "stream",
     "text": [
      "[[61 53]]\n"
     ]
    }
   ],
   "source": [
    "print (cnt[0])"
   ]
  },
  {
   "cell_type": "code",
   "execution_count": 10,
   "metadata": {},
   "outputs": [
    {
     "data": {
      "text/plain": [
       "array([[[ 61,  53]],\n",
       "\n",
       "       [[ 62,  52]],\n",
       "\n",
       "       [[ 65,  55]],\n",
       "\n",
       "       [[ 65,  56]],\n",
       "\n",
       "       [[ 96,  87]],\n",
       "\n",
       "       [[ 96,  88]],\n",
       "\n",
       "       [[116, 108]],\n",
       "\n",
       "       [[118, 108]],\n",
       "\n",
       "       [[148,  78]],\n",
       "\n",
       "       [[149,  78]],\n",
       "\n",
       "       [[150,  77]],\n",
       "\n",
       "       [[152,  79]],\n",
       "\n",
       "       [[152,  80]],\n",
       "\n",
       "       [[153,  81]],\n",
       "\n",
       "       [[153,  82]],\n",
       "\n",
       "       [[154,  83]],\n",
       "\n",
       "       [[154,  85]],\n",
       "\n",
       "       [[155,  86]],\n",
       "\n",
       "       [[155,  87]],\n",
       "\n",
       "       [[156,  88]],\n",
       "\n",
       "       [[156,  89]],\n",
       "\n",
       "       [[157,  90]],\n",
       "\n",
       "       [[157,  92]],\n",
       "\n",
       "       [[158,  93]],\n",
       "\n",
       "       [[158,  94]],\n",
       "\n",
       "       [[159,  95]],\n",
       "\n",
       "       [[159,  97]],\n",
       "\n",
       "       [[160,  98]],\n",
       "\n",
       "       [[160,  99]],\n",
       "\n",
       "       [[161, 100]],\n",
       "\n",
       "       [[161, 101]],\n",
       "\n",
       "       [[162, 102]],\n",
       "\n",
       "       [[162, 104]],\n",
       "\n",
       "       [[163, 105]],\n",
       "\n",
       "       [[163, 106]],\n",
       "\n",
       "       [[164, 107]],\n",
       "\n",
       "       [[164, 108]],\n",
       "\n",
       "       [[165, 109]],\n",
       "\n",
       "       [[165, 111]],\n",
       "\n",
       "       [[166, 112]],\n",
       "\n",
       "       [[166, 113]],\n",
       "\n",
       "       [[167, 114]],\n",
       "\n",
       "       [[167, 115]],\n",
       "\n",
       "       [[168, 116]],\n",
       "\n",
       "       [[168, 118]],\n",
       "\n",
       "       [[169, 119]],\n",
       "\n",
       "       [[169, 120]],\n",
       "\n",
       "       [[170, 121]],\n",
       "\n",
       "       [[170, 123]],\n",
       "\n",
       "       [[171, 124]],\n",
       "\n",
       "       [[171, 125]],\n",
       "\n",
       "       [[172, 126]],\n",
       "\n",
       "       [[172, 127]],\n",
       "\n",
       "       [[173, 128]],\n",
       "\n",
       "       [[173, 130]],\n",
       "\n",
       "       [[174, 131]],\n",
       "\n",
       "       [[174, 132]],\n",
       "\n",
       "       [[175, 133]],\n",
       "\n",
       "       [[175, 134]],\n",
       "\n",
       "       [[176, 135]],\n",
       "\n",
       "       [[176, 137]],\n",
       "\n",
       "       [[177, 138]],\n",
       "\n",
       "       [[177, 139]],\n",
       "\n",
       "       [[178, 140]],\n",
       "\n",
       "       [[178, 141]],\n",
       "\n",
       "       [[179, 142]],\n",
       "\n",
       "       [[179, 144]],\n",
       "\n",
       "       [[180, 145]],\n",
       "\n",
       "       [[180, 146]],\n",
       "\n",
       "       [[181, 147]],\n",
       "\n",
       "       [[181, 148]],\n",
       "\n",
       "       [[182, 149]],\n",
       "\n",
       "       [[182, 151]],\n",
       "\n",
       "       [[183, 152]],\n",
       "\n",
       "       [[183, 153]],\n",
       "\n",
       "       [[184, 154]],\n",
       "\n",
       "       [[184, 156]],\n",
       "\n",
       "       [[185, 157]],\n",
       "\n",
       "       [[185, 158]],\n",
       "\n",
       "       [[186, 159]],\n",
       "\n",
       "       [[186, 160]],\n",
       "\n",
       "       [[187, 161]],\n",
       "\n",
       "       [[187, 163]],\n",
       "\n",
       "       [[188, 164]],\n",
       "\n",
       "       [[188, 165]],\n",
       "\n",
       "       [[189, 166]],\n",
       "\n",
       "       [[189, 167]],\n",
       "\n",
       "       [[190, 168]],\n",
       "\n",
       "       [[190, 170]],\n",
       "\n",
       "       [[191, 171]],\n",
       "\n",
       "       [[191, 172]],\n",
       "\n",
       "       [[192, 173]],\n",
       "\n",
       "       [[192, 174]],\n",
       "\n",
       "       [[193, 175]],\n",
       "\n",
       "       [[193, 177]],\n",
       "\n",
       "       [[194, 178]],\n",
       "\n",
       "       [[194, 179]],\n",
       "\n",
       "       [[195, 180]],\n",
       "\n",
       "       [[195, 182]],\n",
       "\n",
       "       [[196, 183]],\n",
       "\n",
       "       [[196, 184]],\n",
       "\n",
       "       [[197, 185]],\n",
       "\n",
       "       [[197, 186]],\n",
       "\n",
       "       [[198, 187]],\n",
       "\n",
       "       [[198, 189]],\n",
       "\n",
       "       [[199, 190]],\n",
       "\n",
       "       [[199, 191]],\n",
       "\n",
       "       [[200, 192]],\n",
       "\n",
       "       [[200, 193]],\n",
       "\n",
       "       [[201, 194]],\n",
       "\n",
       "       [[201, 195]],\n",
       "\n",
       "       [[200, 196]],\n",
       "\n",
       "       [[188, 184]],\n",
       "\n",
       "       [[188, 183]],\n",
       "\n",
       "       [[157, 152]],\n",
       "\n",
       "       [[157, 151]],\n",
       "\n",
       "       [[146, 140]],\n",
       "\n",
       "       [[145, 140]],\n",
       "\n",
       "       [[131, 154]],\n",
       "\n",
       "       [[130, 154]],\n",
       "\n",
       "       [[112, 172]],\n",
       "\n",
       "       [[111, 171]],\n",
       "\n",
       "       [[111, 170]],\n",
       "\n",
       "       [[110, 169]],\n",
       "\n",
       "       [[110, 168]],\n",
       "\n",
       "       [[109, 167]],\n",
       "\n",
       "       [[109, 166]],\n",
       "\n",
       "       [[108, 165]],\n",
       "\n",
       "       [[108, 163]],\n",
       "\n",
       "       [[107, 162]],\n",
       "\n",
       "       [[107, 161]],\n",
       "\n",
       "       [[106, 160]],\n",
       "\n",
       "       [[106, 159]],\n",
       "\n",
       "       [[105, 158]],\n",
       "\n",
       "       [[105, 156]],\n",
       "\n",
       "       [[104, 155]],\n",
       "\n",
       "       [[104, 154]],\n",
       "\n",
       "       [[103, 153]],\n",
       "\n",
       "       [[103, 152]],\n",
       "\n",
       "       [[102, 151]],\n",
       "\n",
       "       [[102, 149]],\n",
       "\n",
       "       [[101, 148]],\n",
       "\n",
       "       [[101, 147]],\n",
       "\n",
       "       [[100, 146]],\n",
       "\n",
       "       [[100, 145]],\n",
       "\n",
       "       [[ 99, 144]],\n",
       "\n",
       "       [[ 99, 142]],\n",
       "\n",
       "       [[ 98, 141]],\n",
       "\n",
       "       [[ 98, 140]],\n",
       "\n",
       "       [[ 97, 139]],\n",
       "\n",
       "       [[ 97, 137]],\n",
       "\n",
       "       [[ 96, 136]],\n",
       "\n",
       "       [[ 96, 135]],\n",
       "\n",
       "       [[ 95, 134]],\n",
       "\n",
       "       [[ 95, 133]],\n",
       "\n",
       "       [[ 94, 132]],\n",
       "\n",
       "       [[ 94, 130]],\n",
       "\n",
       "       [[ 93, 129]],\n",
       "\n",
       "       [[ 93, 128]],\n",
       "\n",
       "       [[ 92, 127]],\n",
       "\n",
       "       [[ 92, 126]],\n",
       "\n",
       "       [[ 91, 125]],\n",
       "\n",
       "       [[ 91, 123]],\n",
       "\n",
       "       [[ 90, 122]],\n",
       "\n",
       "       [[ 90, 121]],\n",
       "\n",
       "       [[ 89, 120]],\n",
       "\n",
       "       [[ 89, 119]],\n",
       "\n",
       "       [[ 88, 118]],\n",
       "\n",
       "       [[ 88, 116]],\n",
       "\n",
       "       [[ 87, 115]],\n",
       "\n",
       "       [[ 87, 114]],\n",
       "\n",
       "       [[ 86, 113]],\n",
       "\n",
       "       [[ 86, 111]],\n",
       "\n",
       "       [[ 85, 110]],\n",
       "\n",
       "       [[ 85, 109]],\n",
       "\n",
       "       [[ 84, 108]],\n",
       "\n",
       "       [[ 84, 107]],\n",
       "\n",
       "       [[ 83, 106]],\n",
       "\n",
       "       [[ 83, 104]],\n",
       "\n",
       "       [[ 82, 103]],\n",
       "\n",
       "       [[ 82, 102]],\n",
       "\n",
       "       [[ 81, 101]],\n",
       "\n",
       "       [[ 81, 100]],\n",
       "\n",
       "       [[ 80,  99]],\n",
       "\n",
       "       [[ 80,  97]],\n",
       "\n",
       "       [[ 79,  96]],\n",
       "\n",
       "       [[ 79,  95]],\n",
       "\n",
       "       [[ 78,  94]],\n",
       "\n",
       "       [[ 78,  93]],\n",
       "\n",
       "       [[ 77,  92]],\n",
       "\n",
       "       [[ 77,  90]],\n",
       "\n",
       "       [[ 76,  89]],\n",
       "\n",
       "       [[ 76,  88]],\n",
       "\n",
       "       [[ 75,  87]],\n",
       "\n",
       "       [[ 75,  86]],\n",
       "\n",
       "       [[ 74,  85]],\n",
       "\n",
       "       [[ 74,  83]],\n",
       "\n",
       "       [[ 73,  82]],\n",
       "\n",
       "       [[ 73,  81]],\n",
       "\n",
       "       [[ 72,  80]],\n",
       "\n",
       "       [[ 72,  78]],\n",
       "\n",
       "       [[ 71,  77]],\n",
       "\n",
       "       [[ 71,  76]],\n",
       "\n",
       "       [[ 70,  75]],\n",
       "\n",
       "       [[ 70,  74]],\n",
       "\n",
       "       [[ 69,  73]],\n",
       "\n",
       "       [[ 69,  71]],\n",
       "\n",
       "       [[ 68,  70]],\n",
       "\n",
       "       [[ 68,  69]],\n",
       "\n",
       "       [[ 67,  68]],\n",
       "\n",
       "       [[ 67,  67]],\n",
       "\n",
       "       [[ 66,  66]],\n",
       "\n",
       "       [[ 66,  64]],\n",
       "\n",
       "       [[ 65,  63]],\n",
       "\n",
       "       [[ 65,  62]],\n",
       "\n",
       "       [[ 64,  61]],\n",
       "\n",
       "       [[ 64,  60]],\n",
       "\n",
       "       [[ 63,  59]],\n",
       "\n",
       "       [[ 63,  57]],\n",
       "\n",
       "       [[ 62,  56]],\n",
       "\n",
       "       [[ 62,  55]],\n",
       "\n",
       "       [[ 61,  54]]], dtype=int32)"
      ]
     },
     "execution_count": 10,
     "metadata": {},
     "output_type": "execute_result"
    }
   ],
   "source": [
    "cnt[:,:,]"
   ]
  },
  {
   "cell_type": "markdown",
   "metadata": {},
   "source": [
    "9. Extreme Points\n",
    "---\n",
    "Extreme Points means topmost, bottommost, rightmost and leftmost points of the object.\n"
   ]
  },
  {
   "cell_type": "code",
   "execution_count": 11,
   "metadata": {},
   "outputs": [
    {
     "data": {
      "text/plain": [
       "<matplotlib.image.AxesImage at 0x7f7221bf1a58>"
      ]
     },
     "execution_count": 11,
     "metadata": {},
     "output_type": "execute_result"
    },
    {
     "data": {
      "image/png": "[encoded data removed]",
      "text/plain": [
       "<matplotlib.figure.Figure at 0x7f721c280f98>"
      ]
     },
     "metadata": {},
     "output_type": "display_data"
    }
   ],
   "source": [
    "leftmost = tuple(cnt[cnt[:,:,0].argmin()][0])\n",
    "rightmost = tuple(cnt[cnt[:,:,0].argmax()][0])\n",
    "topmost = tuple(cnt[cnt[:,:,1].argmin()][0])\n",
    "bottommost = tuple(cnt[cnt[:,:,1].argmax()][0])\n",
    "\n",
    "extreme = img.copy();\n",
    "cv2.circle(extreme,leftmost,3,(0,255,0),-1)\n",
    "cv2.circle(extreme,rightmost,3,(255,0,0),-1)\n",
    "cv2.circle(extreme,topmost,3,(0,0,255),-1)\n",
    "cv2.circle(extreme,bottommost,3,(255,255,0),-1)\n",
    "imshow(extreme)"
   ]
  },
  {
   "cell_type": "code",
   "execution_count": null,
   "metadata": {},
   "outputs": [],
   "source": []
  },
  {
   "cell_type": "code",
   "execution_count": null,
   "metadata": {},
   "outputs": [],
   "source": []
  }
 ],
 "metadata": {
  "kernelspec": {
   "display_name": "Python 3",
   "language": "python",
   "name": "python3"
  },
  "language_info": {
   "codemirror_mode": {
    "name": "ipython",
    "version": 3
   },
   "file_extension": ".py",
   "mimetype": "text/x-python",
   "name": "python",
   "nbconvert_exporter": "python",
   "pygments_lexer": "ipython3",
   "version": "3.5.2"
  }
 },
 "nbformat": 4,
 "nbformat_minor": 1
}
