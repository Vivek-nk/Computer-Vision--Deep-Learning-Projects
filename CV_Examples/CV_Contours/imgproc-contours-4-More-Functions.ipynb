{
 "cells": [
  {
   "cell_type": "markdown",
   "metadata": {},
   "source": [
    "Contours : More Functions\n",
    "===\n",
    "Goal\n",
    "---\n",
    "**In this chapter, we will learn about**\n",
    "\n",
    "- Convexity defects and how to find them.\n",
    "- Finding shortest distance from a point to a polygon\n",
    "- Matching different shapes\n",
    "Theory and Code\n",
    "---\n",
    "1. Convexity Defects\n",
    "---\n",
    "We saw what is convex hull in second chapter about contours. Any deviation of the object from this hull can be considered as convexity defect.\n",
    "\n",
    "OpenCV comes with a ready-made function to find this, `cv2.convexityDefects()`. A basic function call would look like below:\n",
    "\n",
    "    hull = cv2.convexHull(cnt,returnPoints = False)\n",
    "    defects = cv2.convexityDefects(cnt,hull)\n"
   ]
  },
  {
   "cell_type": "raw",
   "metadata": {},
   "source": [
    "**Note**\n",
    "Remember we have to pass returnPoints = False while finding convex hull, in order to find convexity defects.\n"
   ]
  },
  {
   "cell_type": "markdown",
   "metadata": {},
   "source": [
    "It returns an array where each row contains these values - **[ start point, end point, farthest point, approximate distance to farthest point ]**. We can visualize it using an image. We draw a line joining start point and end point, then draw a circle at the farthest point. Remember first three values returned are indices of `cnt`. So we have to bring those values from `cnt`."
   ]
  },
  {
   "cell_type": "code",
   "execution_count": 3,
   "metadata": {},
   "outputs": [
    {
     "name": "stdout",
     "output_type": "stream",
     "text": [
      "Populating the interactive namespace from numpy and matplotlib\n"
     ]
    },
    {
     "name": "stderr",
     "output_type": "stream",
     "text": [
      "/usr/local/lib/python3.5/dist-packages/IPython/core/magics/pylab.py:160: UserWarning: pylab import has clobbered these variables: ['e']\n",
      "`%matplotlib` prevents importing * from pylab and numpy\n",
      "  \"\\n`%matplotlib` prevents importing * from pylab and numpy\"\n"
     ]
    },
    {
     "data": {
      "text/plain": [
       "<matplotlib.image.AxesImage at 0x7f154a16d8d0>"
      ]
     },
     "execution_count": 3,
     "metadata": {},
     "output_type": "execute_result"
    },
    {
     "data": {
      "image/png": "[encoded data removed]",
      "text/plain": [
       "<matplotlib.figure.Figure at 0x7f154a1b6278>"
      ]
     },
     "metadata": {},
     "output_type": "display_data"
    }
   ],
   "source": [
    "%pylab inline\n",
    "\n",
    "import cv2\n",
    "import numpy as np\n",
    "\n",
    "img = cv2.imread('images/lightning.png')\n",
    "img_gray = cv2.cvtColor(img,cv2.COLOR_BGR2GRAY)\n",
    "ret, thresh = cv2.threshold(img_gray, 127, 255,0)\n",
    "imgout, contours,hierarchy = cv2.findContours(thresh,2,1)\n",
    "cnt = contours[1]\n",
    "hull = cv2.convexHull(cnt.copy(),returnPoints = False)\n",
    "defects =cv2.convexityDefects(cnt.copy(),hull)\n",
    "for i in range(defects.shape[0]):\n",
    "    s,e,fe,de = defects[i,0]\n",
    "    start = tuple(cnt[s][0])\n",
    "    end = tuple(cnt[e][0])\n",
    "    far = tuple(cnt[fe][0])\n",
    "    cv2.line(img,start,end,(0,255,0),2)\n",
    "    cv2.circle(img,far,5,(0,0,255),-1)\n",
    "\n",
    "imshow(img)\n"
   ]
  },
  {
   "cell_type": "markdown",
   "metadata": {},
   "source": [
    "2. Point Polygon Test\n",
    "---\n",
    "This function finds the shortest distance between a point in the image and a contour. It returns the distance which is negative when point is outside the contour, positive when point is inside and zero if point is on the contour.\n",
    "\n",
    "For example, we can check the point (50,50) as follows:"
   ]
  },
  {
   "cell_type": "code",
   "execution_count": 56,
   "metadata": {},
   "outputs": [
    {
     "name": "stdout",
     "output_type": "stream",
     "text": [
      "Distance: -11.401754251\n"
     ]
    }
   ],
   "source": [
    "dist = cv2.pointPolygonTest(cnt,(50,50),True)\n",
    "print (\"Distance: \" + str(dist))"
   ]
  },
  {
   "cell_type": "markdown",
   "metadata": {},
   "source": [
    "In the function, third argument is 'measureDist'. If it is True, it finds the signed distance. If False, it finds whether the point is inside or outside or on the contour (it returns +1, -1, 0 respectively)."
   ]
  },
  {
   "cell_type": "raw",
   "metadata": {},
   "source": [
    "**Note**\n",
    "\n",
    "If you don’t want to find the distance, make sure third argument is False, because, it is a time consuming process. So, making it False gives about 2-3X speedup."
   ]
  },
  {
   "cell_type": "markdown",
   "metadata": {},
   "source": [
    "3. Match Shapes\n",
    "---\n",
    "OpenCV comes with a function `cv2.matchShapes()` which enables us to compare two shapes, or two contours and returns a metric showing the similarity. The lower the result, the better match it is. It is calculated based on the hu-moment values. Different measurement methods are explained in the docs."
   ]
  },
  {
   "cell_type": "code",
   "execution_count": 6,
   "metadata": {},
   "outputs": [
    {
     "name": "stdout",
     "output_type": "stream",
     "text": [
      "0.5129822989189228\n",
      "0.8994529947693057\n"
     ]
    },
    {
     "data": {
      "image/png": "[encoded data removed]",
      "text/plain": [
       "<matplotlib.figure.Figure at 0x7f154a15b7b8>"
      ]
     },
     "metadata": {},
     "output_type": "display_data"
    },
    {
     "data": {
      "image/png": "[encoded data removed]",
      "text/plain": [
       "<matplotlib.figure.Figure at 0x7f154a15be10>"
      ]
     },
     "metadata": {},
     "output_type": "display_data"
    },
    {
     "data": {
      "image/png": "[encoded data removed]",
      "text/plain": [
       "<matplotlib.figure.Figure at 0x7f154a0fbbe0>"
      ]
     },
     "metadata": {},
     "output_type": "display_data"
    }
   ],
   "source": [
    "\n",
    "\n",
    "img1 = cv2.imread('images/lightning.png')\n",
    "img2 = cv2.imread('images/lightning2.png')\n",
    "img3 = cv2.imread('images/bad-square.png')\n",
    "\n",
    "img_gray1 = cv2.cvtColor(img1,cv2.COLOR_BGR2GRAY)\n",
    "img_gray2 = cv2.cvtColor(img2,cv2.COLOR_BGR2GRAY)\n",
    "img_gray3 = cv2.cvtColor(img3,cv2.COLOR_BGR2GRAY)\n",
    "\n",
    "ret, thresh = cv2.threshold(img_gray1, 127, 255,0)\n",
    "ret, thresh2 = cv2.threshold(img_gray2, 127, 255,0)\n",
    "ret, thresh3 = cv2.threshold(img_gray3, 127, 255,0)\n",
    "\n",
    "imgout, contours,hierarchy = cv2.findContours(thresh,2,1)\n",
    "cnt1 = contours[1]\n",
    "imgout, contours,hierarchy = cv2.findContours(thresh2,2,1)\n",
    "cnt2 = contours[1]\n",
    "imgout, contours,hierarchy = cv2.findContours(thresh3,2,1)\n",
    "cnt3 = contours[1]\n",
    "\n",
    "ret = cv2.matchShapes(cnt1,cnt2,1,0.0)\n",
    "ret2 = cv2.matchShapes(cnt1,cnt3,1,0.0)\n",
    "\n",
    "figure(1)\n",
    "imshow(img1);\n",
    "figure(2)\n",
    "imshow(img2);\n",
    "figure(3)\n",
    "imshow(img3);\n",
    "print (ret)\n",
    "print (ret2)"
   ]
  },
  {
   "cell_type": "markdown",
   "metadata": {},
   "source": [
    "See, even image rotation doesn’t affect much on this comparison.\n",
    "\n",
    "**See Also:**\n",
    "[Hu-Moments](http://en.wikipedia.org/wiki/Image_moment#Rotation_invariant_moments) are seven moments invariant to translation, rotation and scale. Seventh one is skew-invariant. Those values can be found using cv2.HuMoments() function.\n",
    "\n",
    "Exercises\n",
    "---\n",
    "Check the documentation for `cv2.pointPolygonTest()`, you can find a nice image in Red and Blue color. It represents the distance from all pixels to the white curve on it. All pixels inside curve is blue depending on the distance. Similarly outside points are red. Contour edges are marked with White. So problem is simple. Write a code to create such a representation of distance.\n",
    "Compare images of digits or letters using `cv2.matchShapes()`. ( That would be a simple step towards OCR )"
   ]
  },
  {
   "cell_type": "code",
   "execution_count": 58,
   "metadata": {},
   "outputs": [],
   "source": []
  },
  {
   "cell_type": "code",
   "execution_count": null,
   "metadata": {},
   "outputs": [],
   "source": []
  }
 ],
 "metadata": {
  "kernelspec": {
   "display_name": "Python 3",
   "language": "python",
   "name": "python3"
  },
  "language_info": {
   "codemirror_mode": {
    "name": "ipython",
    "version": 3
   },
   "file_extension": ".py",
   "mimetype": "text/x-python",
   "name": "python",
   "nbconvert_exporter": "python",
   "pygments_lexer": "ipython3",
   "version": "3.5.2"
  }
 },
 "nbformat": 4,
 "nbformat_minor": 1
}
